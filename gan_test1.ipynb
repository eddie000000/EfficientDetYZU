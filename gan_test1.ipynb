{
  "nbformat": 4,
  "nbformat_minor": 0,
  "metadata": {
    "colab": {
      "name": "gan_test1.ipynb",
      "provenance": [],
      "collapsed_sections": [],
      "include_colab_link": true
    },
    "kernelspec": {
      "name": "python3",
      "display_name": "Python 3"
    },
    "accelerator": "GPU"
  },
  "cells": [
    {
      "cell_type": "markdown",
      "metadata": {
        "id": "view-in-github",
        "colab_type": "text"
      },
      "source": [
        "<a href=\"https://colab.research.google.com/github/eddie000000/EfficientDetYZU/blob/master/gan_test1.ipynb\" target=\"_parent\"><img src=\"https://colab.research.google.com/assets/colab-badge.svg\" alt=\"Open In Colab\"/></a>"
      ]
    },
    {
      "cell_type": "code",
      "metadata": {
        "id": "EO4lBvLJnErK"
      },
      "source": [
        "## 匯入需要的套件和 MNIST 資料集 ##\n",
        "''' mnist練習用\n",
        "import numpy as np\n",
        "from keras.applications.inception_v3 import InceptionV3, preprocess_input\n",
        "from IPython.core.debugger import Tracer\n",
        "from keras.preprocessing.image import ImageDataGenerator\n",
        "from keras.datasets import mnist\n",
        "from keras.layers import Input, Dense, Reshape, Flatten, Dropout\n",
        "from keras.layers import BatchNormalization\n",
        "from keras.layers.advanced_activations import LeakyReLU\n",
        "from keras.models import Sequential\n",
        "from keras.optimizers import Adam\n",
        "import keras\n",
        "import matplotlib.pyplot as plt\n",
        "'''"
      ],
      "execution_count": null,
      "outputs": []
    },
    {
      "cell_type": "code",
      "metadata": {
        "id": "BMkMAO5eoDG9"
      },
      "source": [
        "''' mnist練習用\n",
        "class Gan(object):\n",
        "  def __init__(self, width=512, height=512, channels=3):\n",
        "    self.width=width\n",
        "    self.height=height\n",
        "    self.channels=channels\n",
        "\n",
        "    self.shape = (self.width, self.height, self.channels)\n",
        "    self.optimizer = Adam(lr=0.0002, beta_1=0.5, decay=8e-8)\n",
        "    self.G = self.__generator()\n",
        "    self.G.compile(loss='binary_crossentropy', optimizer=self.optimizer)\n",
        "\n",
        "    self.D = self.__discriminator()\n",
        "    self.D.compile(loss='binary_crossentropy', optimizer=self.optimizer, metrics=['accuracy'])\n",
        "\n",
        "    self.stacked_generator_discriminator = self.__stacked_generator_discriminator()\n",
        "\n",
        "    self.stacked_generator_discriminator.compile(loss='binary_crossentropy', optimizer=self.optimizer)\n",
        "\n",
        "  def __generator(self):\n",
        "    model = Sequential()\n",
        "    model.add(Dense(256, input_shape=(100,)))\n",
        "    model.add(LeakyReLU(alpha=0.2))  # 使用 LeakyReLU 激活函數\n",
        "    model.add(BatchNormalization(momentum=0.8))  # 使用 BatchNormalization 優化\n",
        "    model.add(Dense(512))\n",
        "    model.add(LeakyReLU(alpha=0.2))\n",
        "    model.add(BatchNormalization(momentum=0.8))\n",
        "    model.add(Dense(1024))\n",
        "    model.add(LeakyReLU(alpha=0.2))\n",
        "    model.add(BatchNormalization(momentum=0.8))\n",
        "    model.add(Dense(self.width  * self.height * self.channels, activation='tanh'))\n",
        "    model.add(Reshape((self.width, self.height, self.channels)))\n",
        "    model.summary()\n",
        "\n",
        "    return model\n",
        "\n",
        "  def __discriminator(self):\n",
        "\n",
        "    model = Sequential()\n",
        "    model.add(Flatten(input_shape=self.shape))\n",
        "    model.add(Dense((self.width * self.height * self.channels), input_shape=self.shape))\n",
        "    model.add(LeakyReLU(alpha=0.2))\n",
        "    model.add(Dense(int((self.width * self.height * self.channels)/2)))\n",
        "    model.add(LeakyReLU(alpha=0.2))\n",
        "    model.add(Dense(1, activation='sigmoid'))\n",
        "    model.summary()\n",
        "\n",
        "    return model\n",
        "  \n",
        "  def __stacked_generator_discriminator(self):\n",
        "\n",
        "    self.D.trainable = False\n",
        "    model = Sequential()\n",
        "    model.add(self.G)\n",
        "    model.add(self.D)\n",
        "\n",
        "    return model\n",
        "\n",
        "  def train(self, X_train, epochs=1000, batch = 32, save_interval = 100):\n",
        "    for cnt in range(epochs):\n",
        "        ## train discriminator\n",
        "        random_index = np.random.randint(0, len(X_train) - batch/2)\n",
        "        legit_images = X_train[random_index : random_index + int(batch/2)].reshape(int(batch/2), self.width, self.height, self.channels)\n",
        "\n",
        "        gen_noise = np.random.normal(0, 1, (int(batch/2), 100)) \n",
        "        syntetic_images = self.G.predict(gen_noise)\n",
        "\n",
        "        x_combined_batch = np.concatenate((legit_images, syntetic_images))\n",
        "        y_combined_batch = np.concatenate((np.ones((int(batch/2), 1)), np.zeros((int(batch/2), 1))))\n",
        "\n",
        "        d_loss = self.D.train_on_batch(x_combined_batch, y_combined_batch)\n",
        "\n",
        "\n",
        "        # train generator\n",
        "\n",
        "        noise = np.random.normal(0, 1, (batch, 100))  # 添加高斯噪聲\n",
        "        y_mislabled = np.ones((batch, 1))\n",
        "\n",
        "        g_loss = self.stacked_generator_discriminator.train_on_batch(noise, y_mislabled)\n",
        "\n",
        "        print ('epoch: %d, [Discriminator :: d_loss: %f], [ Generator :: loss: %f]' % (cnt, d_loss[0], g_loss))\n",
        "\n",
        "        if cnt % save_interval == 0:\n",
        "            self.plot_images(save2file=True, step=cnt)\n",
        "\n",
        "  def plot_images(self, save2file=False, samples=16, step=0):\n",
        "    filename = \"/content/drive/My Drive/gan/mnist_%d.png\" % step\n",
        "    noise = np.random.normal(0, 1, (samples, 100))\n",
        "\n",
        "    images = self.G.predict(noise)\n",
        "\n",
        "    plt.figure(figsize=(10, 10))\n",
        "\n",
        "    for i in range(images.shape[0]):\n",
        "        plt.subplot(4, 4, i+1)\n",
        "        image = images[i, :, :, :]\n",
        "        image = np.reshape(image, [self.height, self.width])\n",
        "        plt.imshow(image, cmap='gray')\n",
        "        plt.axis('off')\n",
        "    plt.tight_layout()\n",
        "\n",
        "    if save2file:\n",
        "        plt.savefig(filename)\n",
        "        plt.close('all')\n",
        "    else:\n",
        "        plt.show()\n",
        "'''"
      ],
      "execution_count": null,
      "outputs": []
    },
    {
      "cell_type": "code",
      "metadata": {
        "id": "TMzNx5sH44Ge",
        "colab": {
          "base_uri": "https://localhost:8080/",
          "height": 34
        },
        "outputId": "e40ab24c-39e6-42b0-c3cc-9977875166f6"
      },
      "source": [
        "from google.colab import drive\n",
        "drive.mount('/content/drive')"
      ],
      "execution_count": null,
      "outputs": [
        {
          "output_type": "stream",
          "text": [
            "Mounted at /content/drive\n"
          ],
          "name": "stdout"
        }
      ]
    },
    {
      "cell_type": "code",
      "metadata": {
        "id": "rCCm21SgCjDT"
      },
      "source": [
        "! cp \"/content/drive/My Drive/AIdata2/train_images.zip\" /content/"
      ],
      "execution_count": null,
      "outputs": []
    },
    {
      "cell_type": "code",
      "metadata": {
        "id": "-GF2i4jpCjKZ"
      },
      "source": [
        "! unzip /content/train_images.zip > data_unzip.log"
      ],
      "execution_count": null,
      "outputs": []
    },
    {
      "cell_type": "code",
      "metadata": {
        "id": "aCMaYtTuCjhA",
        "colab": {
          "base_uri": "https://localhost:8080/",
          "height": 34
        },
        "outputId": "c2c6939a-da81-4f65-df21-ab012d45dfd2"
      },
      "source": [
        "! cp \"/content/drive/My Drive/AIdata2/test_images.zip\" /content/"
      ],
      "execution_count": null,
      "outputs": [
        {
          "output_type": "stream",
          "text": [
            "cp: cannot stat '/content/drive/My Drive/AIdata2/test_images.zip': No such file or directory\n"
          ],
          "name": "stdout"
        }
      ]
    },
    {
      "cell_type": "code",
      "metadata": {
        "id": "Ve2616_5CjrB",
        "colab": {
          "base_uri": "https://localhost:8080/",
          "height": 34
        },
        "outputId": "8fa9afcd-c83e-457a-855d-df47fe219230"
      },
      "source": [
        "! unzip /content/test_images.zip > data2_unzip.log"
      ],
      "execution_count": null,
      "outputs": [
        {
          "output_type": "stream",
          "text": [
            "unzip:  cannot find or open /content/test_images.zip, /content/test_images.zip.zip or /content/test_images.zip.ZIP.\n"
          ],
          "name": "stdout"
        }
      ]
    },
    {
      "cell_type": "markdown",
      "metadata": {
        "id": "DdbpjAq5G6a2"
      },
      "source": [
        "參考網址\n",
        "https://colab.research.google.com/drive/1JYY_HHtVSSOLixZfLwkxiWTRdPHJCS2t"
      ]
    },
    {
      "cell_type": "code",
      "metadata": {
        "id": "07t3tCiTWjUA"
      },
      "source": [
        "from torch.utils.data import Dataset, DataLoader\n",
        "import cv2\n",
        "import os\n",
        "\n",
        "class data_deal(Dataset):\n",
        "  def __init__(self, fnames, transform):\n",
        "    self.transform = transform\n",
        "    self.fnames = fnames\n",
        "    self.num_samples = len(self.fnames)\n",
        "  def __getitem__(self, idx):\n",
        "    fname = self.fnames[idx]\n",
        "    img = cv2.imread(fname)\n",
        "    img = self.BGR2RGB(img) #because \"torchvision.utils.save_image\" use RGB\n",
        "    img = self.transform(img)\n",
        "    return img\n",
        "\n",
        "  def __len__(self):\n",
        "    return self.num_samples\n",
        "  def BGR2RGB(self, img):\n",
        "    return cv2.cvtColor(img,cv2.COLOR_BGR2RGB)\n",
        "\n",
        "import glob\n",
        "import torchvision.transforms as transforms\n",
        "\n",
        "def get_dataset(root):\n",
        "  fnames = glob.glob(os.path.join(root, '*'))\n",
        "  transform = transforms.Compose(\n",
        "      [transforms.ToPILImage(),\n",
        "       transforms.Resize((256, 256)),\n",
        "       transforms.ToTensor(),\n",
        "       transforms.Normalize(mean=[0.5]*3, std=[0.5]*3)] )\n",
        "  dataset = data_deal(fnames, transform)\n",
        "  return dataset"
      ],
      "execution_count": null,
      "outputs": []
    },
    {
      "cell_type": "code",
      "metadata": {
        "id": "DYFYcByF-JCw"
      },
      "source": [
        "import random\n",
        "import torch\n",
        "import numpy as np\n",
        "\n",
        "def same_seeds(seed):\n",
        "    torch.manual_seed(seed)\n",
        "    if torch.cuda.is_available():\n",
        "        torch.cuda.manual_seed(seed)\n",
        "        torch.cuda.manual_seed_all(seed)  # if you are using multi-GPU.\n",
        "    np.random.seed(seed)  # Numpy module.\n",
        "    random.seed(seed)  # Python random module.\n",
        "    torch.backends.cudnn.benchmark = False\n",
        "    torch.backends.cudnn.deterministic = True"
      ],
      "execution_count": null,
      "outputs": []
    },
    {
      "cell_type": "code",
      "metadata": {
        "id": "4fzx6UV0-JN2"
      },
      "source": [
        "import torch.nn as nn\n",
        "import torch.nn.functional as F\n",
        "\n",
        "def weights_init(m):\n",
        "    classname = m.__class__.__name__\n",
        "    if classname.find('Conv') != -1:\n",
        "        m.weight.data.normal_(0.0, 0.02)\n",
        "    elif classname.find('BatchNorm') != -1:\n",
        "        m.weight.data.normal_(1.0, 0.02)\n",
        "        m.bias.data.fill_(0)\n",
        "class Generator(nn.Module):\n",
        "    def __init__(self, in_dim, dim=64):\n",
        "      super(Generator, self).__init__()\n",
        "      self.main = nn.Sequential(\n",
        "            # input is Z, going into a convolution\n",
        "            nn.ConvTranspose2d(in_dim, dim * 32, 4, 1, 0, bias=False),\n",
        "            nn.BatchNorm2d(dim * 32),\n",
        "            nn.ReLU(True),\n",
        "            # state size. (dim*32) x 4 x 4\n",
        "            nn.ConvTranspose2d(dim * 32, dim * 16, 4, 2, 1, bias=False),\n",
        "            nn.BatchNorm2d(dim * 16),\n",
        "            nn.ReLU(True),\n",
        "            # state size. (dim*16) x 8 x 8\n",
        "            nn.ConvTranspose2d(dim * 16, dim * 8, 4, 2, 1, bias=False),\n",
        "            nn.BatchNorm2d(dim * 8),\n",
        "            nn.ReLU(True),\n",
        "            # state size. (dim*8) x 16 x 16\n",
        "            nn.ConvTranspose2d(dim * 8, dim * 4, 4, 2, 1, bias=False),\n",
        "            nn.BatchNorm2d(dim * 4),\n",
        "            nn.ReLU(True),\n",
        "            # state size. (dim*4) x 32 x 32\n",
        "            nn.ConvTranspose2d(dim * 4, dim * 2, 4, 2, 1, bias=False),\n",
        "            nn.BatchNorm2d(dim * 2),\n",
        "            nn.ReLU(True),\n",
        "            # state size. (dim*2) x 64 x 64\n",
        "            nn.ConvTranspose2d(dim * 2, dim, 4, 2, 1, bias=False),\n",
        "            nn.BatchNorm2d(dim),\n",
        "            nn.ReLU(True),\n",
        "            # state size. (dim) x 128 x 128\n",
        "            nn.ConvTranspose2d(dim, 3, 4, 2, 1, bias=False),\n",
        "            nn.Tanh()\n",
        "            # state size. (nc) x 256 x 256\n",
        "        )\n",
        "      #self.apply(weights_init)\n",
        "    def forward(self, x):\n",
        "        '''\n",
        "        y = self.l1(x)\n",
        "        y = y.view(y.size(0), -1, 4, 4)'''\n",
        "        y = self.main(x)\n",
        "        return y\n",
        "\n",
        "class Discriminator(nn.Module):\n",
        "    def __init__(self, in_dim, dim=64):\n",
        "        super(Discriminator, self).__init__()\n",
        "        self.main = nn.Sequential(\n",
        "            # input is (nc) x 256 x 256\n",
        "            nn.Conv2d(in_dim, dim, 4, stride=2, padding=1, bias=False), \n",
        "            nn.LeakyReLU(0.2, inplace=True),\n",
        "            # state size. (dim) x 128 x 128\n",
        "\n",
        "            nn.Conv2d(dim, dim * 2, 4, stride=2, padding=1, bias=False),\n",
        "            nn.BatchNorm2d(dim * 2),\n",
        "            nn.LeakyReLU(0.2, inplace=True),\n",
        "            # state size. (dim*2) x 64 x 64\n",
        "\n",
        "            nn.Conv2d(dim * 2, dim * 4, 4, stride=2, padding=1, bias=False),\n",
        "            nn.BatchNorm2d(dim * 4),\n",
        "            nn.LeakyReLU(0.2, inplace=True),\n",
        "            # state size. (dim*4) x 32 x 32\n",
        "\n",
        "            nn.Conv2d(dim * 4, dim * 8, 4, stride=2, padding=1, bias=False),\n",
        "            nn.BatchNorm2d(dim * 8),\n",
        "            nn.LeakyReLU(0.2, inplace=True),\n",
        "            # state size. (dim*8) x 16 x 16\n",
        "\n",
        "            nn.Conv2d(dim * 8, dim * 16, 4, stride=2, padding=1, bias=False),\n",
        "            nn.BatchNorm2d(dim * 16),\n",
        "            nn.LeakyReLU(0.2, inplace=True),\n",
        "            # state size. (dim*16) x 8 x 8\n",
        "\n",
        "            nn.Conv2d(dim * 16, dim * 32, 4, stride=2, padding=1, bias=False),\n",
        "            nn.BatchNorm2d(dim * 32),\n",
        "            nn.LeakyReLU(0.2, inplace=True),\n",
        "            # state size. (dim*32) x 4 x 4\n",
        "\n",
        "            nn.Conv2d(dim * 32, 1, 4, stride=1, padding=0, bias=False),\n",
        "            nn.Sigmoid()\n",
        "            # state size. 1\n",
        "        )      \n",
        "        #self.apply(weights_init)  \n",
        "    def forward(self, x):\n",
        "        y = self.main(x)\n",
        "        return y"
      ],
      "execution_count": null,
      "outputs": []
    },
    {
      "cell_type": "code",
      "metadata": {
        "id": "6qOead_y-JVW"
      },
      "source": [
        "import torch\n",
        "from torch import optim\n",
        "from torch.autograd import Variable\n",
        "import torchvision\n",
        "workspace_dir = '/content/drive/My Drive/gan/'\n",
        "# hyperparameters \n",
        "batch_size = 64\n",
        "z_dim = 100\n",
        "lr = 1e-4\n",
        "n_epoch = 1118\n",
        "save_dir = os.path.join(workspace_dir, 'logs4')\n",
        "os.makedirs(save_dir, exist_ok=True)\n",
        "\n",
        "# model\n",
        "G = Generator(z_dim).cuda()\n",
        "D = Discriminator(in_dim=3).cuda()\n",
        "G.train()\n",
        "D.train()\n",
        "\n",
        "# loss criterion\n",
        "criterion = nn.BCELoss()\n",
        "\n",
        "# optimizer\n",
        "opt_D = torch.optim.Adam(D.parameters(), lr=lr, betas=(0.5, 0.999))\n",
        "opt_G = torch.optim.Adam(G.parameters(), lr=lr, betas=(0.5, 0.999))\n",
        "\n",
        "\n",
        "same_seeds(0)\n",
        "# dataloader (You might need to edit the dataset path if you use extra dataset.)\n",
        "dataset = get_dataset(os.path.join(workspace_dir, '/content/train_images/train/4/'))\n",
        "dataloader = DataLoader(dataset, batch_size=batch_size, shuffle=True, num_workers=4)\n"
      ],
      "execution_count": null,
      "outputs": []
    },
    {
      "cell_type": "code",
      "metadata": {
        "id": "M2MR9_atdPAf",
        "colab": {
          "base_uri": "https://localhost:8080/",
          "height": 286
        },
        "outputId": "2ffdcee4-a8fd-4c12-e511-6810c1f73e90"
      },
      "source": [
        "import matplotlib.pyplot as plt\n",
        "plt.imshow(dataset[10].numpy().transpose(1,2,0))\n"
      ],
      "execution_count": null,
      "outputs": [
        {
          "output_type": "execute_result",
          "data": {
            "text/plain": [
              "<matplotlib.image.AxesImage at 0x7fdefb33f898>"
            ]
          },
          "metadata": {
            "tags": []
          },
          "execution_count": 8
        },
        {
          "output_type": "display_data",
          "data": {
            "image/png": "[encoded data removed]",
            "text/plain": [
              "<Figure size 432x288 with 1 Axes>"
            ]
          },
          "metadata": {
            "tags": [],
            "needs_background": "light"
          }
        }
      ]
    },
    {
      "cell_type": "code",
      "metadata": {
        "id": "GSb0Xd4Fe1Em"
      },
      "source": [
        "z_sample = Variable(torch.randn(100, z_dim,1,1)).cuda()\n",
        "\n",
        "for e, epoch in enumerate(range(n_epoch)):\n",
        "    for i, data in enumerate(dataloader):\n",
        "        imgs = data\n",
        "        imgs = imgs.cuda()\n",
        "\n",
        "        bs = imgs.size(0)\n",
        "\n",
        "        \"\"\" Train D \"\"\"\n",
        "        z = Variable(torch.randn(bs, z_dim,1,1)).cuda()\n",
        "        r_imgs = Variable(imgs).cuda()\n",
        "        f_imgs = G(z)\n",
        "\n",
        "        # label        \n",
        "        r_label = torch.ones((bs)).cuda()\n",
        "        f_label = torch.zeros((bs)).cuda()\n",
        "\n",
        "        # dis\n",
        "        r_logit = D(r_imgs.detach())\n",
        "        f_logit = D(f_imgs.detach())\n",
        "        \n",
        "        # compute loss\n",
        "        r_loss = criterion(r_logit, r_label)\n",
        "        f_loss = criterion(f_logit, f_label)\n",
        "        loss_D = (r_loss + f_loss) / 2\n",
        "\n",
        "        # update model\n",
        "        D.zero_grad()\n",
        "        loss_D.backward()\n",
        "        opt_D.step()\n",
        "\n",
        "        \"\"\" train G \"\"\"\n",
        "        # leaf\n",
        "        z = Variable(torch.randn(bs, z_dim,1,1)).cuda()\n",
        "        f_imgs = G(z)\n",
        "\n",
        "        # dis\n",
        "        f_logit = D(f_imgs)\n",
        "        \n",
        "        # compute loss\n",
        "        loss_G = criterion(f_logit, r_label)\n",
        "\n",
        "        # update model\n",
        "        G.zero_grad()\n",
        "        loss_G.backward()\n",
        "        opt_G.step()\n",
        "\n",
        "        # log\n",
        "        print(f'\\rEpoch [{epoch+1}/{n_epoch}] {i+1}/{len(dataloader)} Loss_D: {loss_D.item():.4f} Loss_G: {loss_G.item():.4f}', end='')\n",
        "    G.eval()\n",
        "    f_imgs_sample = (G(z_sample).data + 1) / 2.0\n",
        "    filename = os.path.join(save_dir, f'Epoch_{epoch+1:03d}.jpg')\n",
        "    torchvision.utils.save_image(f_imgs_sample, filename, nrow=10)\n",
        "    print(f' | Save some samples to {filename}.')\n",
        "    # show generated image\n",
        "    grid_img = torchvision.utils.make_grid(f_imgs_sample.cpu(), nrow=10)\n",
        "    plt.figure(figsize=(10,10))\n",
        "    plt.imshow(grid_img.permute(1, 2, 0))\n",
        "    plt.show()\n",
        "    G.train()\n",
        "    if (e+1) % 5 == 0:\n",
        "        torch.save(G.state_dict(), os.path.join(workspace_dir, f'dcgan_g4.pth'))\n",
        "        torch.save(D.state_dict(), os.path.join(workspace_dir, f'dcgan_d4.pth'))\n"
      ],
      "execution_count": null,
      "outputs": []
    },
    {
      "cell_type": "code",
      "metadata": {
        "id": "bBsAvVlzn-69",
        "colab": {
          "base_uri": "https://localhost:8080/",
          "height": 443
        },
        "outputId": "5a42f451-473d-464f-9f12-f14061d17d0c"
      },
      "source": [
        "import torch\n",
        "# load pretrained model\n",
        "G = Generator(z_dim)\n",
        "G.load_state_dict(torch.load(os.path.join(workspace_dir, 'dcgan_g4.pth')))\n",
        "G.eval()\n",
        "G.cuda()"
      ],
      "execution_count": null,
      "outputs": [
        {
          "output_type": "execute_result",
          "data": {
            "text/plain": [
              "Generator(\n",
              "  (main): Sequential(\n",
              "    (0): ConvTranspose2d(100, 2048, kernel_size=(4, 4), stride=(1, 1), bias=False)\n",
              "    (1): BatchNorm2d(2048, eps=1e-05, momentum=0.1, affine=True, track_running_stats=True)\n",
              "    (2): ReLU(inplace=True)\n",
              "    (3): ConvTranspose2d(2048, 1024, kernel_size=(4, 4), stride=(2, 2), padding=(1, 1), bias=False)\n",
              "    (4): BatchNorm2d(1024, eps=1e-05, momentum=0.1, affine=True, track_running_stats=True)\n",
              "    (5): ReLU(inplace=True)\n",
              "    (6): ConvTranspose2d(1024, 512, kernel_size=(4, 4), stride=(2, 2), padding=(1, 1), bias=False)\n",
              "    (7): BatchNorm2d(512, eps=1e-05, momentum=0.1, affine=True, track_running_stats=True)\n",
              "    (8): ReLU(inplace=True)\n",
              "    (9): ConvTranspose2d(512, 256, kernel_size=(4, 4), stride=(2, 2), padding=(1, 1), bias=False)\n",
              "    (10): BatchNorm2d(256, eps=1e-05, momentum=0.1, affine=True, track_running_stats=True)\n",
              "    (11): ReLU(inplace=True)\n",
              "    (12): ConvTranspose2d(256, 128, kernel_size=(4, 4), stride=(2, 2), padding=(1, 1), bias=False)\n",
              "    (13): BatchNorm2d(128, eps=1e-05, momentum=0.1, affine=True, track_running_stats=True)\n",
              "    (14): ReLU(inplace=True)\n",
              "    (15): ConvTranspose2d(128, 64, kernel_size=(4, 4), stride=(2, 2), padding=(1, 1), bias=False)\n",
              "    (16): BatchNorm2d(64, eps=1e-05, momentum=0.1, affine=True, track_running_stats=True)\n",
              "    (17): ReLU(inplace=True)\n",
              "    (18): ConvTranspose2d(64, 3, kernel_size=(4, 4), stride=(2, 2), padding=(1, 1), bias=False)\n",
              "    (19): Tanh()\n",
              "  )\n",
              ")"
            ]
          },
          "metadata": {
            "tags": []
          },
          "execution_count": 10
        }
      ]
    },
    {
      "cell_type": "code",
      "metadata": {
        "id": "CfVNOiiIWm3X",
        "colab": {
          "base_uri": "https://localhost:8080/",
          "height": 88
        },
        "outputId": "65a732e8-e6af-4a1e-d46d-ee89d3667f50"
      },
      "source": [
        "''' 輸出一張測試\n",
        "n_output = 1\n",
        "z_sample = Variable(torch.randn(n_output, 100,1,1)).cuda()\n",
        "imgs_sample = (G(z_sample).data + 1) / 2.0\n",
        "nn = 'result'+str(i+1)+'.jpg'\n",
        "save_dir = os.path.join(workspace_dir, 'logs1')\n",
        "filename = os.path.join(save_dir, nn)\n",
        "torchvision.utils.save_image(imgs_sample, filename, nrow=10)\n",
        "\n",
        "grid_img = torchvision.utils.make_grid(imgs_sample.cpu(), nrow=10)\n",
        "plt.figure(figsize=(10,10))\n",
        "plt.imshow(grid_img.permute(1, 2, 0))\n",
        "plt.show()\n",
        "'''"
      ],
      "execution_count": null,
      "outputs": [
        {
          "output_type": "execute_result",
          "data": {
            "application/vnd.google.colaboratory.intrinsic+json": {
              "type": "string"
            },
            "text/plain": [
              "\" 輸出一張測試\\nn_output = 1\\nz_sample = Variable(torch.randn(n_output, 100,1,1)).cuda()\\nimgs_sample = (G(z_sample).data + 1) / 2.0\\nnn = 'result'+str(i+1)+'.jpg'\\nsave_dir = os.path.join(workspace_dir, 'logs1')\\nfilename = os.path.join(save_dir, nn)\\ntorchvision.utils.save_image(imgs_sample, filename, nrow=10)\\n\\ngrid_img = torchvision.utils.make_grid(imgs_sample.cpu(), nrow=10)\\nplt.figure(figsize=(10,10))\\nplt.imshow(grid_img.permute(1, 2, 0))\\nplt.show()\\n\""
            ]
          },
          "metadata": {
            "tags": []
          },
          "execution_count": 11
        }
      ]
    },
    {
      "cell_type": "code",
      "metadata": {
        "id": "UO5clQ1cohST",
        "colab": {
          "base_uri": "https://localhost:8080/",
          "height": 1000
        },
        "outputId": "1f780c22-b863-4b68-a291-32dcd84b26a0"
      },
      "source": [
        "for i in range(500):\n",
        "  n_output = 1\n",
        "  z_sample = Variable(torch.randn(n_output, 100,1,1)).cuda()\n",
        "  imgs_sample = (G(z_sample).data + 1) / 2.0\n",
        "  nn = 'result'+str(i+1)+'.jpg'\n",
        "  save_dir = os.path.join(workspace_dir, '4')\n",
        "  filename = os.path.join(save_dir, nn)\n",
        "  torchvision.utils.save_image(imgs_sample, filename, nrow=10)\n",
        "\n",
        "  grid_img = torchvision.utils.make_grid(imgs_sample.cpu(), nrow=10)\n",
        "  plt.figure(figsize=(10,10))\n",
        "  plt.imshow(grid_img.permute(1, 2, 0))\n",
        "  plt.show()\n"
      ],
      "execution_count": null,
      "outputs": []
    }
  ]
}